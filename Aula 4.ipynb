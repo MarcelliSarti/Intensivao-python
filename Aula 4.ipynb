{
 "cells": [
  {
   "cell_type": "markdown",
   "id": "9fd1346b",
   "metadata": {},
   "source": [
    "Passo a passo\n",
    "passo 1: pegar a cotação do dolar\n",
    "passo 2: pegar a cotação do euro\n",
    "passo 3: pegar a coração do ouro\n",
    "passo 4: importa a lista de produtos\n",
    "passo 5: recalcular o preço de cada produto\n",
    "passo 6: salvar os novos preços dos produtos"
   ]
  },
  {
   "cell_type": "code",
   "execution_count": 75,
   "id": "6c2c12f8",
   "metadata": {},
   "outputs": [],
   "source": [
    "from selenium import webdriver as wbd\n",
    "from selenium.webdriver.common.keys import Keys"
   ]
  },
  {
   "cell_type": "code",
   "execution_count": 76,
   "id": "0a240cf3",
   "metadata": {},
   "outputs": [],
   "source": [
    "#abrir navegador\n",
    "navegador = wbd.Chrome()"
   ]
  },
  {
   "cell_type": "code",
   "execution_count": 77,
   "id": "fd0e8a19",
   "metadata": {
    "scrolled": true
   },
   "outputs": [],
   "source": [
    "#DOLAR\n",
    "\n",
    "#ir para a página do google\n",
    "navegador.get(\"https://www.google.com.br/\")\n",
    "\n",
    "#pesquisa cotação dolar no campo de busca\n",
    "navegador.find_element_by_xpath(\n",
    "    '/html/body/div[1]/div[3]/form/div[1]/div[1]/div[1]/div/div[2]/input').send_keys(\"cotação dólar\")\n",
    "\n",
    "#dando enter para pesquisar\n",
    "navegador.find_element_by_xpath(\n",
    "    '/html/body/div[1]/div[3]/form/div[1]/div[1]/div[1]/div/div[2]/input').send_keys(Keys.ENTER)\n",
    "\n",
    "#copiando o valor\n",
    "cotacao_dolar = navegador.find_element_by_xpath('//*[@id=\"knowledge-currency__updatable-data-column\"]/div[1]/div[2]/span[1]').get_attribute('data-value')"
   ]
  },
  {
   "cell_type": "code",
   "execution_count": 78,
   "id": "9cab6842",
   "metadata": {},
   "outputs": [],
   "source": [
    "#EURO\n",
    "navegador.get(\"https://www.google.com.br/\")\n",
    "navegador.find_element_by_xpath(\n",
    "    '/html/body/div[1]/div[3]/form/div[1]/div[1]/div[1]/div/div[2]/input').send_keys(\"cotação euro\")\n",
    "navegador.find_element_by_xpath(\n",
    "    '/html/body/div[1]/div[3]/form/div[1]/div[1]/div[1]/div/div[2]/input').send_keys(Keys.ENTER)\n",
    "cotacao_euro = navegador.find_element_by_xpath('//*[@id=\"knowledge-currency__updatable-data-column\"]/div[1]/div[2]/span[1]').get_attribute('data-value')"
   ]
  },
  {
   "cell_type": "code",
   "execution_count": 79,
   "id": "db77ebf5",
   "metadata": {},
   "outputs": [],
   "source": [
    "#OURO\n",
    "navegador.get(\"https://www.melhorcambio.com/ouro-hoje\")\n",
    "cotacao_ouro = navegador.find_element_by_xpath('//*[@id=\"comercial\"]').get_attribute('value')\n",
    "cotacao_ouro = cotacao_ouro.replace(',','.')\n",
    "\n",
    "#fechar o navegador\n",
    "navegador.quit()"
   ]
  },
  {
   "cell_type": "code",
   "execution_count": 80,
   "id": "5b56617d",
   "metadata": {},
   "outputs": [],
   "source": [
    "#importar base de dados\n",
    "import pandas as pd\n",
    "tabela = pd.read_excel('Produtos.xlsx')"
   ]
  },
  {
   "cell_type": "code",
   "execution_count": 81,
   "id": "b0c90821",
   "metadata": {
    "scrolled": true
   },
   "outputs": [
    {
     "data": {
      "text/html": [
       "<div>\n",
       "<style scoped>\n",
       "    .dataframe tbody tr th:only-of-type {\n",
       "        vertical-align: middle;\n",
       "    }\n",
       "\n",
       "    .dataframe tbody tr th {\n",
       "        vertical-align: top;\n",
       "    }\n",
       "\n",
       "    .dataframe thead th {\n",
       "        text-align: right;\n",
       "    }\n",
       "</style>\n",
       "<table border=\"1\" class=\"dataframe\">\n",
       "  <thead>\n",
       "    <tr style=\"text-align: right;\">\n",
       "      <th></th>\n",
       "      <th>Produtos</th>\n",
       "      <th>Preço Base Original</th>\n",
       "      <th>Moeda</th>\n",
       "      <th>Cotação</th>\n",
       "      <th>Preço Base Reais</th>\n",
       "      <th>Ajuste</th>\n",
       "      <th>Preço Final</th>\n",
       "    </tr>\n",
       "  </thead>\n",
       "  <tbody>\n",
       "    <tr>\n",
       "      <th>0</th>\n",
       "      <td>Câmera Canon</td>\n",
       "      <td>999.99</td>\n",
       "      <td>Dólar</td>\n",
       "      <td>4.9539</td>\n",
       "      <td>4953.850461</td>\n",
       "      <td>1.40</td>\n",
       "      <td>6935.390645</td>\n",
       "    </tr>\n",
       "    <tr>\n",
       "      <th>1</th>\n",
       "      <td>Carro Renault</td>\n",
       "      <td>4500.00</td>\n",
       "      <td>Euro</td>\n",
       "      <td>5.9130</td>\n",
       "      <td>26608.499141</td>\n",
       "      <td>2.00</td>\n",
       "      <td>53216.998281</td>\n",
       "    </tr>\n",
       "    <tr>\n",
       "      <th>2</th>\n",
       "      <td>Notebook Dell</td>\n",
       "      <td>899.99</td>\n",
       "      <td>Dólar</td>\n",
       "      <td>4.9539</td>\n",
       "      <td>4458.460461</td>\n",
       "      <td>1.70</td>\n",
       "      <td>7579.382784</td>\n",
       "    </tr>\n",
       "    <tr>\n",
       "      <th>3</th>\n",
       "      <td>IPhone</td>\n",
       "      <td>799.00</td>\n",
       "      <td>Dólar</td>\n",
       "      <td>4.9539</td>\n",
       "      <td>3958.166100</td>\n",
       "      <td>1.70</td>\n",
       "      <td>6728.882370</td>\n",
       "    </tr>\n",
       "    <tr>\n",
       "      <th>4</th>\n",
       "      <td>Carro Fiat</td>\n",
       "      <td>3000.00</td>\n",
       "      <td>Euro</td>\n",
       "      <td>5.9130</td>\n",
       "      <td>17738.999427</td>\n",
       "      <td>1.90</td>\n",
       "      <td>33704.098911</td>\n",
       "    </tr>\n",
       "    <tr>\n",
       "      <th>5</th>\n",
       "      <td>Celular Xiaomi</td>\n",
       "      <td>480.48</td>\n",
       "      <td>Dólar</td>\n",
       "      <td>4.9539</td>\n",
       "      <td>2380.249872</td>\n",
       "      <td>2.00</td>\n",
       "      <td>4760.499744</td>\n",
       "    </tr>\n",
       "    <tr>\n",
       "      <th>6</th>\n",
       "      <td>Joia 20g</td>\n",
       "      <td>20.00</td>\n",
       "      <td>Ouro</td>\n",
       "      <td>283.2400</td>\n",
       "      <td>5664.800000</td>\n",
       "      <td>1.15</td>\n",
       "      <td>6514.520000</td>\n",
       "    </tr>\n",
       "  </tbody>\n",
       "</table>\n",
       "</div>"
      ],
      "text/plain": [
       "         Produtos  Preço Base Original  Moeda   Cotação  Preço Base Reais  \\\n",
       "0    Câmera Canon               999.99  Dólar    4.9539       4953.850461   \n",
       "1   Carro Renault              4500.00   Euro    5.9130      26608.499141   \n",
       "2   Notebook Dell               899.99  Dólar    4.9539       4458.460461   \n",
       "3          IPhone               799.00  Dólar    4.9539       3958.166100   \n",
       "4      Carro Fiat              3000.00   Euro    5.9130      17738.999427   \n",
       "5  Celular Xiaomi               480.48  Dólar    4.9539       2380.249872   \n",
       "6        Joia 20g                20.00   Ouro  283.2400       5664.800000   \n",
       "\n",
       "   Ajuste   Preço Final  \n",
       "0    1.40   6935.390645  \n",
       "1    2.00  53216.998281  \n",
       "2    1.70   7579.382784  \n",
       "3    1.70   6728.882370  \n",
       "4    1.90  33704.098911  \n",
       "5    2.00   4760.499744  \n",
       "6    1.15   6514.520000  "
      ]
     },
     "metadata": {},
     "output_type": "display_data"
    }
   ],
   "source": [
    "#atualizar cotação\n",
    "tabela.loc[tabela[\"Moeda\"] == \"Dólar\", \"Cotação\"] = float(cotacao_dolar)\n",
    "tabela.loc[tabela[\"Moeda\"] == \"Euro\", \"Cotação\"] = float(cotacao_euro)\n",
    "tabela.loc[tabela[\"Moeda\"] == \"Ouro\", \"Cotação\"] = float(cotacao_ouro)\n",
    "\n",
    "#atualizar preço base em reais (original * cotação)\n",
    "tabela[\"Preço Base Reais\"] = tabela[\"Preço Base Original\"] * tabela[\"Cotação\"] \n",
    "\n",
    "#atualizar preço final (base * margem)\n",
    "tabela[\"Preço Final\"] = tabela[\"Preço Base Reais\"] * tabela[\"Ajuste\"] \n",
    "\n",
    "display(tabela)"
   ]
  },
  {
   "cell_type": "code",
   "execution_count": 83,
   "id": "a9dc91b9",
   "metadata": {},
   "outputs": [],
   "source": [
    "#salvar em excel\n",
    "tabela.to_excel(\"ProdutosNovo.xlsx\", index=False)"
   ]
  }
 ],
 "metadata": {
  "kernelspec": {
   "display_name": "Python 3",
   "language": "python",
   "name": "python3"
  },
  "language_info": {
   "codemirror_mode": {
    "name": "ipython",
    "version": 3
   },
   "file_extension": ".py",
   "mimetype": "text/x-python",
   "name": "python",
   "nbconvert_exporter": "python",
   "pygments_lexer": "ipython3",
   "version": "3.8.8"
  }
 },
 "nbformat": 4,
 "nbformat_minor": 5
}
